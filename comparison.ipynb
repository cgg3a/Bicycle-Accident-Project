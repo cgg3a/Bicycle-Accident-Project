{
 "cells": [
  {
   "cell_type": "code",
   "execution_count": 1,
   "metadata": {},
   "outputs": [],
   "source": [
    "import pandas as pd\n",
    "import numpy as np"
   ]
  },
  {
   "cell_type": "code",
   "execution_count": 2,
   "metadata": {},
   "outputs": [],
   "source": [
    "inBounds = pd.read_csv(\"CountInCityBounds.csv\")"
   ]
  },
  {
   "cell_type": "code",
   "execution_count": 3,
   "metadata": {},
   "outputs": [],
   "source": [
    "rows = int(inBounds['row_index'].max() + 1)\n",
    "cols = int(inBounds['col_index'].max() + 1)"
   ]
  },
  {
   "cell_type": "code",
   "execution_count": 4,
   "metadata": {},
   "outputs": [],
   "source": [
    "nfOn = pd.read_csv(\"testCountNonfatalOnRoute.csv\")\n",
    "nfOff = pd.read_csv(\"testCountNonfatalOffRoute.csv\")\n",
    "fOn = pd.read_csv(\"testCountFatalOnRoute.csv\")\n",
    "fOff = pd.read_csv(\"testCountFatalOffRoute.csv\")"
   ]
  },
  {
   "cell_type": "code",
   "execution_count": 5,
   "metadata": {},
   "outputs": [],
   "source": [
    "fOnCount = 0\n",
    "fOffCount = 0\n",
    "nfOnCount = 0\n",
    "nfOffCount = 0"
   ]
  },
  {
   "cell_type": "code",
   "execution_count": 6,
   "metadata": {},
   "outputs": [
    {
     "name": "stdout",
     "output_type": "stream",
     "text": [
      "row 0\n",
      "row 1\n",
      "row 2\n",
      "row 3\n",
      "row 4\n",
      "row 5\n",
      "row 6\n",
      "row 7\n",
      "row 8\n",
      "row 9\n",
      "row 10\n",
      "row 11\n",
      "row 12\n",
      "row 13\n",
      "row 14\n",
      "row 15\n",
      "row 16\n",
      "row 17\n",
      "row 18\n",
      "row 19\n",
      "row 20\n",
      "row 21\n",
      "row 22\n",
      "row 23\n",
      "row 24\n",
      "row 25\n",
      "row 26\n",
      "row 27\n",
      "row 28\n",
      "row 29\n",
      "row 30\n",
      "row 31\n",
      "row 32\n",
      "row 33\n",
      "row 34\n",
      "row 35\n",
      "row 36\n",
      "row 37\n",
      "row 38\n",
      "row 39\n",
      "row 40\n",
      "row 41\n",
      "row 42\n",
      "row 43\n",
      "row 44\n",
      "row 45\n",
      "row 46\n",
      "row 47\n",
      "row 48\n",
      "row 49\n",
      "row 50\n",
      "row 51\n",
      "row 52\n",
      "row 53\n",
      "row 54\n",
      "row 55\n",
      "row 56\n",
      "row 57\n",
      "row 58\n",
      "row 59\n",
      "row 60\n",
      "row 61\n",
      "row 62\n",
      "row 63\n",
      "row 64\n",
      "row 65\n",
      "row 66\n",
      "row 67\n",
      "row 68\n",
      "row 69\n",
      "row 70\n",
      "row 71\n",
      "row 72\n",
      "row 73\n",
      "row 74\n",
      "row 75\n",
      "row 76\n",
      "row 77\n",
      "row 78\n",
      "row 79\n",
      "row 80\n",
      "row 81\n",
      "row 82\n",
      "row 83\n",
      "row 84\n",
      "row 85\n",
      "row 86\n",
      "row 87\n",
      "row 88\n",
      "row 89\n",
      "row 90\n",
      "row 91\n",
      "row 92\n",
      "row 93\n",
      "row 94\n",
      "row 95\n",
      "row 96\n",
      "row 97\n",
      "row 98\n",
      "row 99\n",
      "row 100\n",
      "row 101\n",
      "row 102\n",
      "row 103\n",
      "row 104\n",
      "row 105\n",
      "row 106\n",
      "row 107\n",
      "row 108\n",
      "row 109\n",
      "row 110\n",
      "row 111\n",
      "row 112\n",
      "row 113\n",
      "row 114\n",
      "row 115\n",
      "row 116\n",
      "row 117\n",
      "row 118\n",
      "row 119\n",
      "row 120\n",
      "row 121\n",
      "row 122\n",
      "row 123\n",
      "row 124\n",
      "row 125\n",
      "row 126\n",
      "row 127\n",
      "row 128\n",
      "row 129\n",
      "row 130\n",
      "row 131\n",
      "row 132\n",
      "row 133\n",
      "row 134\n",
      "row 135\n",
      "row 136\n",
      "row 137\n",
      "row 138\n",
      "row 139\n",
      "row 140\n",
      "row 141\n",
      "row 142\n",
      "row 143\n",
      "row 144\n",
      "row 145\n",
      "row 146\n",
      "row 147\n",
      "row 148\n",
      "row 149\n",
      "row 150\n",
      "row 151\n",
      "row 152\n",
      "row 153\n",
      "row 154\n",
      "row 155\n",
      "row 156\n",
      "row 157\n",
      "row 158\n",
      "row 159\n",
      "row 160\n",
      "row 161\n",
      "row 162\n",
      "row 163\n",
      "row 164\n",
      "row 165\n",
      "row 166\n",
      "row 167\n",
      "row 168\n",
      "row 169\n",
      "row 170\n",
      "row 171\n",
      "row 172\n",
      "row 173\n",
      "row 174\n",
      "row 175\n",
      "row 176\n",
      "row 177\n",
      "row 178\n",
      "row 179\n",
      "row 180\n",
      "row 181\n",
      "row 182\n",
      "row 183\n",
      "row 184\n",
      "row 185\n",
      "row 186\n",
      "row 187\n",
      "row 188\n",
      "row 189\n",
      "row 190\n",
      "row 191\n"
     ]
    }
   ],
   "source": [
    "for i in range(rows):\n",
    "    print(\"row \" + str(i))\n",
    "    for j in range(cols):\n",
    "        nfOnCount += int(nfOn[(nfOn.row_index == i) & (nfOn.col_index == j)].NUMPOINTS.iloc[0])\n",
    "        nfOffCount += int(nfOff[(nfOff.row_index == i) & (nfOff.col_index == j)].NUMPOINTS.iloc[0])\n",
    "        fOnCount += int(fOn[(fOn.row_index == i) & (fOn.col_index == j)].NUMPOINTS.iloc[0])\n",
    "        fOffCount += int(fOff[(fOff.row_index == i) & (fOff.col_index == j)].NUMPOINTS.iloc[0])"
   ]
  },
  {
   "cell_type": "code",
   "execution_count": 7,
   "metadata": {},
   "outputs": [
    {
     "data": {
      "text/plain": [
       "5851"
      ]
     },
     "execution_count": 7,
     "metadata": {},
     "output_type": "execute_result"
    }
   ],
   "source": [
    "nfOnCount"
   ]
  },
  {
   "cell_type": "code",
   "execution_count": 8,
   "metadata": {},
   "outputs": [
    {
     "data": {
      "text/plain": [
       "7341"
      ]
     },
     "execution_count": 8,
     "metadata": {},
     "output_type": "execute_result"
    }
   ],
   "source": [
    "nfOffCount"
   ]
  },
  {
   "cell_type": "code",
   "execution_count": 9,
   "metadata": {},
   "outputs": [
    {
     "data": {
      "text/plain": [
       "17"
      ]
     },
     "execution_count": 9,
     "metadata": {},
     "output_type": "execute_result"
    }
   ],
   "source": [
    "fOnCount"
   ]
  },
  {
   "cell_type": "code",
   "execution_count": 10,
   "metadata": {},
   "outputs": [
    {
     "data": {
      "text/plain": [
       "22"
      ]
     },
     "execution_count": 10,
     "metadata": {},
     "output_type": "execute_result"
    }
   ],
   "source": [
    "fOffCount"
   ]
  },
  {
   "cell_type": "code",
   "execution_count": 11,
   "metadata": {},
   "outputs": [],
   "source": [
    "totalOnCount = nfOnCount + fOnCount"
   ]
  },
  {
   "cell_type": "code",
   "execution_count": 12,
   "metadata": {},
   "outputs": [],
   "source": [
    "totalOffCount = nfOffCount + fOffCount"
   ]
  },
  {
   "cell_type": "code",
   "execution_count": 13,
   "metadata": {},
   "outputs": [
    {
     "data": {
      "text/plain": [
       "5868"
      ]
     },
     "execution_count": 13,
     "metadata": {},
     "output_type": "execute_result"
    }
   ],
   "source": [
    "totalOnCount"
   ]
  },
  {
   "cell_type": "code",
   "execution_count": 14,
   "metadata": {},
   "outputs": [
    {
     "data": {
      "text/plain": [
       "7363"
      ]
     },
     "execution_count": 14,
     "metadata": {},
     "output_type": "execute_result"
    }
   ],
   "source": [
    "totalOffCount"
   ]
  },
  {
   "cell_type": "code",
   "execution_count": 16,
   "metadata": {},
   "outputs": [
    {
     "name": "stdout",
     "output_type": "stream",
     "text": [
      "0.2897068847989093%\n"
     ]
    }
   ],
   "source": [
    "fatalRatioOn = fOnCount / totalOnCount\n",
    "print(str(fatalRatioOn * 100) + \"%\")"
   ]
  },
  {
   "cell_type": "code",
   "execution_count": 17,
   "metadata": {},
   "outputs": [
    {
     "name": "stdout",
     "output_type": "stream",
     "text": [
      "0.2987912535651229%\n"
     ]
    }
   ],
   "source": [
    "fatalRatioOff = fOffCount / totalOffCount\n",
    "print(str(fatalRatioOff * 100) + \"%\")"
   ]
  },
  {
   "cell_type": "code",
   "execution_count": 19,
   "metadata": {},
   "outputs": [
    {
     "data": {
      "text/plain": [
       "0.009084368766213574"
      ]
     },
     "execution_count": 19,
     "metadata": {},
     "output_type": "execute_result"
    }
   ],
   "source": [
    "(fatalRatioOff - fatalRatioOn) * 100"
   ]
  },
  {
   "cell_type": "code",
   "execution_count": null,
   "metadata": {},
   "outputs": [],
   "source": []
  }
 ],
 "metadata": {
  "kernelspec": {
   "display_name": "Python 3",
   "language": "python",
   "name": "python3"
  },
  "language_info": {
   "codemirror_mode": {
    "name": "ipython",
    "version": 3
   },
   "file_extension": ".py",
   "mimetype": "text/x-python",
   "name": "python",
   "nbconvert_exporter": "python",
   "pygments_lexer": "ipython3",
   "version": "3.10.4"
  }
 },
 "nbformat": 4,
 "nbformat_minor": 2
}
