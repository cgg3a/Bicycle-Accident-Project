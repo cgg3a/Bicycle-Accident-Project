{
 "cells": [
  {
   "cell_type": "code",
   "execution_count": 1,
   "metadata": {},
   "outputs": [],
   "source": [
    "import pandas as pd\n",
    "import numpy as np"
   ]
  },
  {
   "cell_type": "code",
   "execution_count": 2,
   "metadata": {},
   "outputs": [],
   "source": [
    "inBounds = pd.read_csv(\"CountInCityBounds.csv\")"
   ]
  },
  {
   "cell_type": "code",
   "execution_count": 3,
   "metadata": {},
   "outputs": [],
   "source": [
    "rows = int(inBounds['row_index'].max() + 1)\n",
    "cols = int(inBounds['col_index'].max() + 1)"
   ]
  },
  {
   "cell_type": "code",
   "execution_count": 4,
   "metadata": {},
   "outputs": [],
   "source": [
    "data = pd.read_csv(\"testCountFatalOnRoute.csv\")"
   ]
  },
  {
   "cell_type": "code",
   "execution_count": 5,
   "metadata": {},
   "outputs": [],
   "source": [
    "gridCrashCount = []\n",
    "gridEB = []\n",
    "for i in range(rows):\n",
    "    gridCrashCount.append([])\n",
    "    gridEB.append([])"
   ]
  },
  {
   "cell_type": "code",
   "execution_count": 6,
   "metadata": {},
   "outputs": [],
   "source": [
    "for i in range(rows):\n",
    "    for j in range(cols):\n",
    "        if (int(inBounds[(inBounds.row_index == i) & (inBounds.col_index == j)].NUMPOINTS.iloc[0]) == 0):\n",
    "            gridCrashCount[i].append(-1)\n",
    "        else:\n",
    "            gridCrashCount[i].append(int(data[(data.row_index == i) & (data.col_index == j)].NUMPOINTS.iloc[0]))"
   ]
  },
  {
   "cell_type": "code",
   "execution_count": 7,
   "metadata": {},
   "outputs": [
    {
     "data": {
      "text/plain": [
       "'\\nsquareErrors = []\\nfor i in range(rows):\\n    for j in range(cols):\\n        if (gridCrashCount[i][j] == -1):\\n            estimate = -1\\n        else:\\n            neighbors = []\\n            # check all neighbors\\n            for a in range(-1, 1):\\n                for b in range(-1, 1):\\n                    # does neighbor exist, exclude current tile\\n                    if ((gridCrashCount[i+a][j+b] >= 0) and ((a!=0) or (b!=0))):\\n                        neighbors.append(gridCrashCount[i+a][j+b])\\n            # if no neighbors\\n            if (len(neighbors) == 0):\\n                estimate = gridCrashCount[i][j]\\n            else:\\n                expected = np.average(neighbors)\\n                # divide by 0 handling\\n                if (expected == 0):\\n                    weight = 0\\n                else:\\n                    variance = np.var(neighbors)\\n                    weight = expected / (expected + variance)\\n                \\n                estimate = (weight * expected) + (gridCrashCount[i][j] * (1 - weight))\\n        gridEB[i].append(estimate)\\n        squareErrors.append((estimate - gridCrashCount[i][j])**2)\\n'"
      ]
     },
     "execution_count": 7,
     "metadata": {},
     "output_type": "execute_result"
    }
   ],
   "source": [
    "'''\n",
    "squareErrors = []\n",
    "for i in range(rows):\n",
    "    for j in range(cols):\n",
    "        if (gridCrashCount[i][j] == -1):\n",
    "            estimate = -1\n",
    "        else:\n",
    "            neighbors = []\n",
    "            # check all neighbors\n",
    "            for a in range(-1, 1):\n",
    "                for b in range(-1, 1):\n",
    "                    # does neighbor exist, exclude current tile\n",
    "                    if ((gridCrashCount[i+a][j+b] >= 0) and ((a!=0) or (b!=0))):\n",
    "                        neighbors.append(gridCrashCount[i+a][j+b])\n",
    "            # if no neighbors\n",
    "            if (len(neighbors) == 0):\n",
    "                estimate = gridCrashCount[i][j]\n",
    "            else:\n",
    "                expected = np.average(neighbors)\n",
    "                # divide by 0 handling\n",
    "                if (expected == 0):\n",
    "                    weight = 0\n",
    "                else:\n",
    "                    variance = np.var(neighbors)\n",
    "                    weight = expected / (expected + variance)\n",
    "                \n",
    "                estimate = (weight * expected) + (gridCrashCount[i][j] * (1 - weight))\n",
    "        gridEB[i].append(estimate)\n",
    "        squareErrors.append((estimate - gridCrashCount[i][j])**2)\n",
    "'''"
   ]
  },
  {
   "cell_type": "code",
   "execution_count": 8,
   "metadata": {},
   "outputs": [],
   "source": [
    "#mse = np.average(squareErrors)"
   ]
  },
  {
   "cell_type": "code",
   "execution_count": 9,
   "metadata": {},
   "outputs": [],
   "source": [
    "temp = np.asmatrix(gridCrashCount)\n",
    "#np.savetxt(\"fatalEB.csv\", temp, delimiter=\",\", fmt=\"%.4f\")"
   ]
  },
  {
   "cell_type": "code",
   "execution_count": 10,
   "metadata": {},
   "outputs": [],
   "source": [
    "#print(\"Mean Square Error: \" + str(mse))"
   ]
  },
  {
   "cell_type": "code",
   "execution_count": 11,
   "metadata": {},
   "outputs": [
    {
     "name": "stdout",
     "output_type": "stream",
     "text": [
      "Requirement already satisfied: matplotlib in c:\\users\\caleb\\appdata\\local\\programs\\python\\python310\\lib\\site-packages (3.9.2)Note: you may need to restart the kernel to use updated packages.\n"
     ]
    },
    {
     "name": "stderr",
     "output_type": "stream",
     "text": [
      "\n",
      "[notice] A new release of pip is available: 23.0.1 -> 24.3.1\n",
      "[notice] To update, run: python.exe -m pip install --upgrade pip\n"
     ]
    },
    {
     "name": "stdout",
     "output_type": "stream",
     "text": [
      "\n",
      "Requirement already satisfied: pillow>=8 in c:\\users\\caleb\\appdata\\local\\programs\\python\\python310\\lib\\site-packages (from matplotlib) (11.0.0)\n",
      "Requirement already satisfied: kiwisolver>=1.3.1 in c:\\users\\caleb\\appdata\\local\\programs\\python\\python310\\lib\\site-packages (from matplotlib) (1.4.7)\n",
      "Requirement already satisfied: contourpy>=1.0.1 in c:\\users\\caleb\\appdata\\local\\programs\\python\\python310\\lib\\site-packages (from matplotlib) (1.3.1)\n",
      "Requirement already satisfied: packaging>=20.0 in c:\\users\\caleb\\appdata\\roaming\\python\\python310\\site-packages (from matplotlib) (24.2)\n",
      "Requirement already satisfied: numpy>=1.23 in c:\\users\\caleb\\appdata\\local\\programs\\python\\python310\\lib\\site-packages (from matplotlib) (2.1.3)\n",
      "Requirement already satisfied: python-dateutil>=2.7 in c:\\users\\caleb\\appdata\\roaming\\python\\python310\\site-packages (from matplotlib) (2.9.0.post0)\n",
      "Requirement already satisfied: fonttools>=4.22.0 in c:\\users\\caleb\\appdata\\local\\programs\\python\\python310\\lib\\site-packages (from matplotlib) (4.54.1)\n",
      "Requirement already satisfied: cycler>=0.10 in c:\\users\\caleb\\appdata\\local\\programs\\python\\python310\\lib\\site-packages (from matplotlib) (0.12.1)\n",
      "Requirement already satisfied: pyparsing>=2.3.1 in c:\\users\\caleb\\appdata\\local\\programs\\python\\python310\\lib\\site-packages (from matplotlib) (3.2.0)\n",
      "Requirement already satisfied: six>=1.5 in c:\\users\\caleb\\appdata\\roaming\\python\\python310\\site-packages (from python-dateutil>=2.7->matplotlib) (1.16.0)\n"
     ]
    }
   ],
   "source": [
    "%pip install matplotlib"
   ]
  },
  {
   "cell_type": "code",
   "execution_count": 12,
   "metadata": {},
   "outputs": [],
   "source": [
    "import matplotlib\n",
    "import matplotlib.pyplot as plt"
   ]
  },
  {
   "cell_type": "code",
   "execution_count": 14,
   "metadata": {},
   "outputs": [
    {
     "data": {
      "image/png": "[encoded data removed]",
      "text/plain": [
       "<Figure size 640x480 with 1 Axes>"
      ]
     },
     "metadata": {},
     "output_type": "display_data"
    }
   ],
   "source": [
    "fig, ax = plt.subplots()\n",
    "cmap=plt.cm.hot\n",
    "cmap.set_under('gray')\n",
    "plt.axis('off')\n",
    "ax.matshow(temp, cmap=cmap, vmin=0, vmax=50)\n",
    "ax.grid()"
   ]
  },
  {
   "cell_type": "code",
   "execution_count": null,
   "metadata": {},
   "outputs": [],
   "source": []
  }
 ],
 "metadata": {
  "kernelspec": {
   "display_name": "Python 3",
   "language": "python",
   "name": "python3"
  },
  "language_info": {
   "codemirror_mode": {
    "name": "ipython",
    "version": 3
   },
   "file_extension": ".py",
   "mimetype": "text/x-python",
   "name": "python",
   "nbconvert_exporter": "python",
   "pygments_lexer": "ipython3",
   "version": "3.10.4"
  }
 },
 "nbformat": 4,
 "nbformat_minor": 2
}
